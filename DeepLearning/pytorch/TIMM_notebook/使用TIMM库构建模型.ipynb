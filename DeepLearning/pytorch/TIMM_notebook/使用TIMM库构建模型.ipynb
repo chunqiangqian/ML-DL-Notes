{
 "cells": [
  {
   "cell_type": "code",
   "execution_count": 1,
   "metadata": {},
   "outputs": [
    {
     "name": "stderr",
     "output_type": "stream",
     "text": [
      "/Users/qianchunqiang/miniforge3/envs/py39/lib/python3.9/site-packages/tqdm/auto.py:21: TqdmWarning: IProgress not found. Please update jupyter and ipywidgets. See https://ipywidgets.readthedocs.io/en/stable/user_install.html\n",
      "  from .autonotebook import tqdm as notebook_tqdm\n"
     ]
    }
   ],
   "source": [
    "import timm\n",
    "import torch\n",
    "import torch.nn as nn"
   ]
  },
  {
   "cell_type": "code",
   "execution_count": 16,
   "metadata": {},
   "outputs": [
    {
     "data": {
      "text/plain": [
       "Linear(in_features=4096, out_features=2, bias=True)"
      ]
     },
     "execution_count": 16,
     "metadata": {},
     "output_type": "execute_result"
    }
   ],
   "source": [
    "model_type = 'vgg16'\n",
    "model = timm.create_model(model_type, pretrained=True, in_chans=1, num_classes=2)\n",
    "\n",
    "model.get_classifier()"
   ]
  },
  {
   "cell_type": "code",
   "execution_count": 17,
   "metadata": {},
   "outputs": [],
   "source": [
    "class AudioClassifier(nn.Module):\n",
    "    def __init__(self, num_classes=None, in_chans=3, preTrainedModel=None, pre_trained=True):\n",
    "        \"\"\"用于创建timm库的预训练分类模型\n",
    "\n",
    "        Args:\n",
    "            num_classes (int, optional): 分类类别数量. Defaults to None.\n",
    "            in_chans (int, optional): 输入的数据的通道数. Defaults to 3.\n",
    "            preTrainedModel (_type_, optional): 预训练模型名称\n",
    "                                ['vgg16','resnet18','resnet34','resnet50']. Defaults to None.\n",
    "            pre_trained (bool, optional): 是否导入预训练模型参数. Defaults to True.\n",
    "        \"\"\"\n",
    "        super(AudioClassifier, self).__init__()\n",
    "        self.model = timm.create_model(preTrainedModel, pretrained=pre_trained, in_chans=in_chans, num_classes=num_classes)\n",
    "\n",
    "\n",
    "    def forward(self, x):\n",
    "        x = self.model(x)\n",
    "        return x"
   ]
  },
  {
   "cell_type": "code",
   "execution_count": 20,
   "metadata": {},
   "outputs": [],
   "source": [
    "vgg16 = AudioClassifier(num_classes=3, preTrainedModel='vgg16')"
   ]
  },
  {
   "cell_type": "code",
   "execution_count": 23,
   "metadata": {},
   "outputs": [],
   "source": [
    "resnet34 = AudioClassifier(num_classes=3, preTrainedModel='resnet34')"
   ]
  },
  {
   "cell_type": "code",
   "execution_count": null,
   "metadata": {},
   "outputs": [],
   "source": []
  }
 ],
 "metadata": {
  "kernelspec": {
   "display_name": "py39",
   "language": "python",
   "name": "python3"
  },
  "language_info": {
   "codemirror_mode": {
    "name": "ipython",
    "version": 3
   },
   "file_extension": ".py",
   "mimetype": "text/x-python",
   "name": "python",
   "nbconvert_exporter": "python",
   "pygments_lexer": "ipython3",
   "version": "3.9.16"
  },
  "orig_nbformat": 4
 },
 "nbformat": 4,
 "nbformat_minor": 2
}
